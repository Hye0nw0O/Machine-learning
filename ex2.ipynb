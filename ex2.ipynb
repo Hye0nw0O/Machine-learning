{
  "nbformat": 4,
  "nbformat_minor": 0,
  "metadata": {
    "colab": {
      "provenance": [],
      "toc_visible": true,
      "authorship_tag": "ABX9TyNzd3iPkH6kgUIa2wTWWYhF",
      "include_colab_link": true
    },
    "kernelspec": {
      "name": "python3",
      "display_name": "Python 3"
    },
    "language_info": {
      "name": "python"
    }
  },
  "cells": [
    {
      "cell_type": "markdown",
      "metadata": {
        "id": "view-in-github",
        "colab_type": "text"
      },
      "source": [
        "<a href=\"https://colab.research.google.com/github/Hye0nw0O/Machine-learning/blob/main/ex2.ipynb\" target=\"_parent\"><img src=\"https://colab.research.google.com/assets/colab-badge.svg\" alt=\"Open In Colab\"/></a>"
      ]
    },
    {
      "cell_type": "code",
      "execution_count": null,
      "metadata": {
        "id": "SjucpmxGgGG1"
      },
      "outputs": [],
      "source": [
        "import numpy as np\n",
        "import pandas as pd\n",
        "import matplotlib.pyplot as plt"
      ]
    },
    {
      "cell_type": "code",
      "source": [
        "seed = 0\n",
        "np.random.seed(seed)"
      ],
      "metadata": {
        "id": "WaqMXsH9gTAo"
      },
      "execution_count": null,
      "outputs": []
    },
    {
      "cell_type": "code",
      "source": [
        "df = pd.read_csv('abalone.csv')"
      ],
      "metadata": {
        "id": "txIykvD3gW1X"
      },
      "execution_count": null,
      "outputs": []
    },
    {
      "cell_type": "code",
      "source": [
        "dataset = df.values\n",
        "X = dataset[0:4177, 0:7]\n",
        "Y = dataset[ : , 7]"
      ],
      "metadata": {
        "id": "fgXIMuZUjZDw"
      },
      "execution_count": null,
      "outputs": []
    },
    {
      "cell_type": "code",
      "source": [
        "from sklearn.model_selection import train_test_split\n",
        "X_train, X_test, Y_train, Y_test = train_test_split(X, Y, test_size=0.3, random_state=seed)\n",
        "# 사이킷 런 라이브러리 이용해 학습 데이터 셋을 나눠줌. 학습 데이터 0.7, 실제 테스트 데이터 0.3"
      ],
      "metadata": {
        "id": "xwZPsdg6j3gp"
      },
      "execution_count": null,
      "outputs": []
    },
    {
      "cell_type": "code",
      "source": [
        "from sklearn.linear_model import LinearRegression\n",
        "lin_reg = LinearRegression(fit_intercept=True)"
      ],
      "metadata": {
        "id": "1ujQaxjqkhEA"
      },
      "execution_count": null,
      "outputs": []
    },
    {
      "cell_type": "code",
      "source": [
        "model = lin_reg.fit(X_train, Y_train)"
      ],
      "metadata": {
        "id": "s-TV9yibkzBA"
      },
      "execution_count": null,
      "outputs": []
    },
    {
      "cell_type": "code",
      "source": [
        "# 정확도 확인\n",
        "print(\"정확도: \", model.score(X_train, Y_train))"
      ],
      "metadata": {
        "colab": {
          "base_uri": "https://localhost:8080/"
        },
        "id": "UK5dAPRck2r_",
        "outputId": "1e34ff17-f909-459b-a50c-ad4c5d3ffd3f"
      },
      "execution_count": null,
      "outputs": [
        {
          "output_type": "stream",
          "name": "stdout",
          "text": [
            "정확도:  0.9683422099452302\n"
          ]
        }
      ]
    },
    {
      "cell_type": "code",
      "source": [
        "# 가중치, 편향 확인\n",
        "w = model.coef_\n",
        "b = model.intercept_\n",
        "print(w)\n",
        "print(b)"
      ],
      "metadata": {
        "colab": {
          "base_uri": "https://localhost:8080/"
        },
        "id": "mBkCNu74lB-Y",
        "outputId": "8bee3b78-ca48-4d31-b56c-c16da28012a9"
      },
      "execution_count": null,
      "outputs": [
        {
          "output_type": "stream",
          "name": "stdout",
          "text": [
            "[ 0.13216544  0.07453926  0.03037804  0.69165655 -0.41884668 -0.68525444\n",
            " -0.00646454]\n",
            "-0.014075705572578923\n"
          ]
        }
      ]
    },
    {
      "cell_type": "code",
      "source": [
        "Y_prediction = model.predict(X_test).flatten()\n",
        "for i in range (10):\n",
        "  label = Y_test[i]\n",
        "  prediction = Y_prediction[i]\n",
        "  print(\"실제 살 무게: {:.3f}, 학습 후 예측 살 무게: {:.3f}\".format(label, prediction))"
      ],
      "metadata": {
        "colab": {
          "base_uri": "https://localhost:8080/"
        },
        "id": "QxSsV9PKlJrU",
        "outputId": "3c256028-d11d-48a4-ac7b-0e5f9d6d4f56"
      },
      "execution_count": null,
      "outputs": [
        {
          "output_type": "stream",
          "name": "stdout",
          "text": [
            "실제 살 무게: 0.278, 학습 후 예측 살 무게: 0.314\n",
            "실제 살 무게: 0.261, 학습 후 예측 살 무게: 0.267\n",
            "실제 살 무게: 0.527, 학습 후 예측 살 무게: 0.531\n",
            "실제 살 무게: 0.021, 학습 후 예측 살 무게: 0.016\n",
            "실제 살 무게: 0.673, 학습 후 예측 살 무게: 0.665\n",
            "실제 살 무게: 0.478, 학습 후 예측 살 무게: 0.492\n",
            "실제 살 무게: 0.267, 학습 후 예측 살 무게: 0.257\n",
            "실제 살 무게: 0.250, 학습 후 예측 살 무게: 0.290\n",
            "실제 살 무게: 0.127, 학습 후 예측 살 무게: 0.140\n",
            "실제 살 무게: 0.461, 학습 후 예측 살 무게: 0.508\n"
          ]
        }
      ]
    },
    {
      "cell_type": "code",
      "source": [],
      "metadata": {
        "id": "jLA8gsQqljrd"
      },
      "execution_count": null,
      "outputs": []
    }
  ]
}